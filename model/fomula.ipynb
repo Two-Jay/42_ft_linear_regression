{
 "cells": [
  {
   "cell_type": "markdown",
   "metadata": {},
   "source": [
    "<text style='centered-aligned'>가격을 예측하는 공식은 아래를 쓴다.<text>\n",
    "\n",
    "\n",
    "\n",
    "$$predictPrice(mileage) = \\theta_0 + (\\theta_1 * mileage)$$"
   ]
  },
  {
   "cell_type": "markdown",
   "metadata": {},
   "source": [
    "학습시 $\\theta$ 값을 업데이트하는 공식은 아래를 쓴다.\n",
    "\n",
    "전체데이터 크기를 m, mileage를 x, price를 y, 학습률은 $\\eta$라고 할 때\n",
    "\n",
    "$$ \\text{temp}\\theta_0 = \\eta * \\sum_{i = 0}^{m - 1}{predictPrice(x_{i}) - y_{i}} $$\n",
    "\n",
    "$$ \\text{temp}\\theta_1 = \\text{temp}\\theta_0 * x_{i}$$\n",
    "\n"
   ]
  }
 ],
 "metadata": {
  "language_info": {
   "name": "python"
  },
  "orig_nbformat": 4
 },
 "nbformat": 4,
 "nbformat_minor": 2
}
